{
    "metadata": {
        "kernelspec": {
            "language": "python", 
            "display_name": "Python 2 with Spark 2.0", 
            "name": "python2-spark20"
        }, 
        "language_info": {
            "version": "2.7.11", 
            "file_extension": ".py", 
            "mimetype": "text/x-python", 
            "name": "python", 
            "nbconvert_exporter": "python", 
            "pygments_lexer": "ipython2", 
            "codemirror_mode": {
                "version": 2, 
                "name": "ipython"
            }
        }
    }, 
    "cells": [
        {
            "execution_count": 3, 
            "cell_type": "code", 
            "outputs": [], 
            "metadata": {}, 
            "source": "# The code was removed by DSX for sharing."
        }, 
        {
            "execution_count": 4, 
            "cell_type": "code", 
            "outputs": [], 
            "metadata": {
                "collapsed": true
            }, 
            "source": "import numpy as np\nimport seaborn as snb\nimport matplotlib.pyplot as plt\n%matplotlib inline"
        }, 
        {
            "execution_count": 5, 
            "cell_type": "code", 
            "outputs": [], 
            "metadata": {}, 
            "source": "train = pd.read_csv(get_object_storage_file_with_credentials_9b3c597dc9074fdc8a1dbb2f44d73d63('DefaultProjectlakshmi1310nagagmailcom', 'train.csv'))\ntest = pd.read_csv(get_object_storage_file_with_credentials_9b3c597dc9074fdc8a1dbb2f44d73d63('DefaultProjectlakshmi1310nagagmailcom', 'test.csv'))"
        }, 
        {
            "execution_count": 6, 
            "cell_type": "code", 
            "outputs": [
                {
                    "output_type": "stream", 
                    "name": "stdout", 
                    "text": "User_ID         0\nDescription     0\nBrowser_Used    0\nDevice_Used     0\nIs_Response     0\ndtype: int64\nhappy        0.681213\nnot happy    0.318787\nName: Is_Response, dtype: float64\n"
                }
            ], 
            "metadata": {}, 
            "source": "print train.isnull().sum()\nprint train.Is_Response.value_counts().apply(lambda x:x*1./len(train))"
        }, 
        {
            "execution_count": 7, 
            "cell_type": "code", 
            "outputs": [
                {
                    "metadata": {}, 
                    "data": {
                        "text/plain": "<matplotlib.figure.Figure at 0x7fabf8827f90>", 
                        "image/png": "[encoded data removed]"
                    }, 
                    "output_type": "display_data"
                }
            ], 
            "metadata": {}, 
            "source": "ax =snb.countplot(x=\"Is_Response\",data=train)"
        }, 
        {
            "metadata": {}, 
            "cell_type": "markdown", 
            "source": "Above values show that data set is imbalance problem and has no null values"
        }, 
        {
            "execution_count": 8, 
            "cell_type": "code", 
            "outputs": [
                {
                    "execution_count": 8, 
                    "data": {
                        "text/plain": "<matplotlib.axes._subplots.AxesSubplot at 0x7fabf7ce86d0>"
                    }, 
                    "metadata": {}, 
                    "output_type": "execute_result"
                }, 
                {
                    "metadata": {}, 
                    "data": {
                        "text/plain": "<matplotlib.figure.Figure at 0x7fabf7c82b90>", 
                        "image/png": "[encoded data removed]"
                    }, 
                    "output_type": "display_data"
                }
            ], 
            "metadata": {}, 
            "source": "snb.countplot(x=\"Device_Used\",data=train)"
        }, 
        {
            "metadata": {}, 
            "cell_type": "markdown", 
            "source": "<h3>Extracting Details from Description</h3>"
        }, 
        {
            "execution_count": 17, 
            "cell_type": "code", 
            "outputs": [], 
            "metadata": {}, 
            "source": "import nltk "
        }, 
        {
            "execution_count": null, 
            "cell_type": "code", 
            "outputs": [], 
            "metadata": {}, 
            "source": "train.Description.apply(lambda x:nltk.pos_tag(nltk.word_tokenize(x)))"
        }, 
        {
            "execution_count": 16, 
            "cell_type": "code", 
            "outputs": [
                {
                    "execution_count": 16, 
                    "data": {
                        "text/plain": "[('The', 'DT'),\n ('room', 'NN'),\n ('was', 'VBD'),\n ('kind', 'NN'),\n ('of', 'IN'),\n ('clean', 'JJ'),\n ('but', 'CC'),\n ('had', 'VBD'),\n ('a', 'DT'),\n ('VERY', 'NNP'),\n ('strong', 'JJ'),\n ('smell', 'NN'),\n ('of', 'IN'),\n ('dogs', 'NNS'),\n ('.', '.'),\n ('Generally', 'RB'),\n ('below', 'JJ'),\n ('average', 'NN'),\n ('but', 'CC'),\n ('ok', 'NN'),\n ('for', 'IN'),\n ('a', 'DT'),\n ('overnight', 'JJ'),\n ('stay', 'NN'),\n ('if', 'IN'),\n ('you', 'PRP'),\n (\"'re\", 'VBP'),\n ('not', 'RB'),\n ('too', 'RB'),\n ('fussy', 'JJ'),\n ('.', '.'),\n ('Would', 'MD'),\n ('consider', 'VB'),\n ('staying', 'VBG'),\n ('again', 'RB'),\n ('if', 'IN'),\n ('the', 'DT'),\n ('price', 'NN'),\n ('was', 'VBD'),\n ('right', 'JJ'),\n ('.', '.'),\n ('Breakfast', 'NNP'),\n ('was', 'VBD'),\n ('free', 'JJ'),\n ('and', 'CC'),\n ('just', 'RB'),\n ('about', 'IN'),\n ('better', 'JJR'),\n ('than', 'IN'),\n ('nothing', 'NN'),\n ('.', '.')]"
                    }, 
                    "metadata": {}, 
                    "output_type": "execute_result"
                }
            ], 
            "metadata": {}, 
            "source": "nltk.pos_tag(nltk.word_tokenize(train.Description[0]))"
        }
    ], 
    "nbformat": 4, 
    "nbformat_minor": 1
}